{
 "cells": [
  {
   "cell_type": "markdown",
   "metadata": {},
   "source": [
    "<div style=\"display: flex; text-align:center; background-color: RGB( 254, 249, 231 );border: 1px solid RGB(51,165,182);\" >\n",
    "<h1 style=\"margin: auto; padding: 30px;margin-left: 2em; text-indent: -2em\"><font color=\"#475AFF\">Correlation entre l'âge des clients et la taille du panier moyen</font>\n",
    "</h1>\n",
    "</div>\n",
    "\n"
   ]
  },
  {
   "cell_type": "code",
   "execution_count": 1,
   "metadata": {},
   "outputs": [],
   "source": [
    "import pandas as pd\n",
    "import numpy as np\n",
    "import matplotlib.pyplot as plt\n",
    "import seaborn as sns\n",
    "import datetime as dt\n",
    "import scipy.stats as st\n",
    "import statsmodels.api as sm\n",
    "import statsmodels.formula.api as smf\n",
    "pd.set_option('display.max_rows', None)"
   ]
  },
  {
   "cell_type": "code",
   "execution_count": 2,
   "metadata": {},
   "outputs": [
    {
     "data": {
      "text/html": [
       "<div>\n",
       "<style scoped>\n",
       "    .dataframe tbody tr th:only-of-type {\n",
       "        vertical-align: middle;\n",
       "    }\n",
       "\n",
       "    .dataframe tbody tr th {\n",
       "        vertical-align: top;\n",
       "    }\n",
       "\n",
       "    .dataframe thead th {\n",
       "        text-align: right;\n",
       "    }\n",
       "</style>\n",
       "<table border=\"1\" class=\"dataframe\">\n",
       "  <thead>\n",
       "    <tr style=\"text-align: right;\">\n",
       "      <th></th>\n",
       "      <th>session_id</th>\n",
       "      <th>montant_dupanier</th>\n",
       "      <th>nombre_article</th>\n",
       "      <th>client_id</th>\n",
       "      <th>age</th>\n",
       "      <th>birth</th>\n",
       "      <th>sex</th>\n",
       "      <th>month</th>\n",
       "      <th>day</th>\n",
       "      <th>date</th>\n",
       "    </tr>\n",
       "  </thead>\n",
       "  <tbody>\n",
       "    <tr>\n",
       "      <th>0</th>\n",
       "      <td>s_1</td>\n",
       "      <td>11.99</td>\n",
       "      <td>1</td>\n",
       "      <td>c_329</td>\n",
       "      <td>55.0</td>\n",
       "      <td>1967.0</td>\n",
       "      <td>f</td>\n",
       "      <td>2021-03</td>\n",
       "      <td>2021-03-01</td>\n",
       "      <td>2021-03-01 00:01:07.843138</td>\n",
       "    </tr>\n",
       "    <tr>\n",
       "      <th>1</th>\n",
       "      <td>s_10</td>\n",
       "      <td>26.99</td>\n",
       "      <td>1</td>\n",
       "      <td>c_2218</td>\n",
       "      <td>52.0</td>\n",
       "      <td>1970.0</td>\n",
       "      <td>f</td>\n",
       "      <td>2021-03</td>\n",
       "      <td>2021-03-01</td>\n",
       "      <td>2021-03-01 00:10:33.163037</td>\n",
       "    </tr>\n",
       "    <tr>\n",
       "      <th>2</th>\n",
       "      <td>s_100</td>\n",
       "      <td>33.72</td>\n",
       "      <td>2</td>\n",
       "      <td>c_3854</td>\n",
       "      <td>44.0</td>\n",
       "      <td>1978.0</td>\n",
       "      <td>f</td>\n",
       "      <td>2021-03</td>\n",
       "      <td>2021-03-01</td>\n",
       "      <td>2021-03-01 04:12:43.572994</td>\n",
       "    </tr>\n",
       "    <tr>\n",
       "      <th>3</th>\n",
       "      <td>s_1000</td>\n",
       "      <td>39.22</td>\n",
       "      <td>4</td>\n",
       "      <td>c_1014</td>\n",
       "      <td>33.0</td>\n",
       "      <td>1989.0</td>\n",
       "      <td>m</td>\n",
       "      <td>2021-03</td>\n",
       "      <td>2021-03-03</td>\n",
       "      <td>2021-03-03 02:38:09.568389</td>\n",
       "    </tr>\n",
       "    <tr>\n",
       "      <th>4</th>\n",
       "      <td>s_10000</td>\n",
       "      <td>41.49</td>\n",
       "      <td>3</td>\n",
       "      <td>c_476</td>\n",
       "      <td>33.0</td>\n",
       "      <td>1989.0</td>\n",
       "      <td>f</td>\n",
       "      <td>2021-03</td>\n",
       "      <td>2021-03-22</td>\n",
       "      <td>2021-03-22 17:46:05.819130</td>\n",
       "    </tr>\n",
       "  </tbody>\n",
       "</table>\n",
       "</div>"
      ],
      "text/plain": [
       "  session_id  montant_dupanier  nombre_article client_id   age   birth sex  \\\n",
       "0        s_1             11.99               1     c_329  55.0  1967.0   f   \n",
       "1       s_10             26.99               1    c_2218  52.0  1970.0   f   \n",
       "2      s_100             33.72               2    c_3854  44.0  1978.0   f   \n",
       "3     s_1000             39.22               4    c_1014  33.0  1989.0   m   \n",
       "4    s_10000             41.49               3     c_476  33.0  1989.0   f   \n",
       "\n",
       "     month         day                        date  \n",
       "0  2021-03  2021-03-01  2021-03-01 00:01:07.843138  \n",
       "1  2021-03  2021-03-01  2021-03-01 00:10:33.163037  \n",
       "2  2021-03  2021-03-01  2021-03-01 04:12:43.572994  \n",
       "3  2021-03  2021-03-03  2021-03-03 02:38:09.568389  \n",
       "4  2021-03  2021-03-22  2021-03-22 17:46:05.819130  "
      ]
     },
     "execution_count": 2,
     "metadata": {},
     "output_type": "execute_result"
    }
   ],
   "source": [
    "data_paniers = pd.read_csv(\"./DATA/cleaned/data_paniers.csv\")\n",
    "data_paniers.head()"
   ]
  },
  {
   "cell_type": "code",
   "execution_count": 3,
   "metadata": {},
   "outputs": [
    {
     "data": {
      "text/html": [
       "<div>\n",
       "<style scoped>\n",
       "    .dataframe tbody tr th:only-of-type {\n",
       "        vertical-align: middle;\n",
       "    }\n",
       "\n",
       "    .dataframe tbody tr th {\n",
       "        vertical-align: top;\n",
       "    }\n",
       "\n",
       "    .dataframe thead th {\n",
       "        text-align: right;\n",
       "    }\n",
       "</style>\n",
       "<table border=\"1\" class=\"dataframe\">\n",
       "  <thead>\n",
       "    <tr style=\"text-align: right;\">\n",
       "      <th></th>\n",
       "      <th>client_id</th>\n",
       "      <th>nombre_article</th>\n",
       "    </tr>\n",
       "  </thead>\n",
       "  <tbody>\n",
       "    <tr>\n",
       "      <th>0</th>\n",
       "      <td>c_329</td>\n",
       "      <td>1</td>\n",
       "    </tr>\n",
       "    <tr>\n",
       "      <th>1270</th>\n",
       "      <td>c_329</td>\n",
       "      <td>1</td>\n",
       "    </tr>\n",
       "    <tr>\n",
       "      <th>21262</th>\n",
       "      <td>c_329</td>\n",
       "      <td>1</td>\n",
       "    </tr>\n",
       "    <tr>\n",
       "      <th>23773</th>\n",
       "      <td>c_329</td>\n",
       "      <td>1</td>\n",
       "    </tr>\n",
       "    <tr>\n",
       "      <th>65811</th>\n",
       "      <td>c_329</td>\n",
       "      <td>2</td>\n",
       "    </tr>\n",
       "  </tbody>\n",
       "</table>\n",
       "</div>"
      ],
      "text/plain": [
       "      client_id  nombre_article\n",
       "0         c_329               1\n",
       "1270      c_329               1\n",
       "21262     c_329               1\n",
       "23773     c_329               1\n",
       "65811     c_329               2"
      ]
     },
     "execution_count": 3,
     "metadata": {},
     "output_type": "execute_result"
    }
   ],
   "source": [
    "data_paniers.loc[data_paniers.client_id=='c_329',['client_id','nombre_article']].head()"
   ]
  },
  {
   "cell_type": "code",
   "execution_count": 4,
   "metadata": {},
   "outputs": [
    {
     "data": {
      "text/html": [
       "<div>\n",
       "<style scoped>\n",
       "    .dataframe tbody tr th:only-of-type {\n",
       "        vertical-align: middle;\n",
       "    }\n",
       "\n",
       "    .dataframe tbody tr th {\n",
       "        vertical-align: top;\n",
       "    }\n",
       "\n",
       "    .dataframe thead th {\n",
       "        text-align: right;\n",
       "    }\n",
       "</style>\n",
       "<table border=\"1\" class=\"dataframe\">\n",
       "  <thead>\n",
       "    <tr style=\"text-align: right;\">\n",
       "      <th></th>\n",
       "      <th>client_id</th>\n",
       "      <th>taillePanierMoyen</th>\n",
       "      <th>age</th>\n",
       "    </tr>\n",
       "  </thead>\n",
       "  <tbody>\n",
       "    <tr>\n",
       "      <th>0</th>\n",
       "      <td>c_1</td>\n",
       "      <td>1.181818</td>\n",
       "      <td>67.0</td>\n",
       "    </tr>\n",
       "    <tr>\n",
       "      <th>33</th>\n",
       "      <td>c_10</td>\n",
       "      <td>1.705882</td>\n",
       "      <td>66.0</td>\n",
       "    </tr>\n",
       "    <tr>\n",
       "      <th>67</th>\n",
       "      <td>c_100</td>\n",
       "      <td>1.600000</td>\n",
       "      <td>30.0</td>\n",
       "    </tr>\n",
       "    <tr>\n",
       "      <th>72</th>\n",
       "      <td>c_1000</td>\n",
       "      <td>1.344086</td>\n",
       "      <td>56.0</td>\n",
       "    </tr>\n",
       "    <tr>\n",
       "      <th>165</th>\n",
       "      <td>c_1001</td>\n",
       "      <td>2.170213</td>\n",
       "      <td>40.0</td>\n",
       "    </tr>\n",
       "  </tbody>\n",
       "</table>\n",
       "</div>"
      ],
      "text/plain": [
       "    client_id  taillePanierMoyen   age\n",
       "0         c_1           1.181818  67.0\n",
       "33       c_10           1.705882  66.0\n",
       "67      c_100           1.600000  30.0\n",
       "72     c_1000           1.344086  56.0\n",
       "165    c_1001           2.170213  40.0"
      ]
     },
     "execution_count": 4,
     "metadata": {},
     "output_type": "execute_result"
    }
   ],
   "source": [
    "df_paniers = data_paniers.groupby(\"client_id\", as_index=False).agg(taillePanierMoyen=(\"nombre_article\",\"mean\"))\n",
    "d = data_paniers[['client_id','age']]\n",
    "df_paniers = df_paniers.merge(d,on='client_id')\n",
    "df_paniers.drop_duplicates(keep='first',inplace=True)\n",
    "df_paniers.head()"
   ]
  },
  {
   "cell_type": "markdown",
   "metadata": {},
   "source": [
    "### HYPOTHESE DE NORMALITE"
   ]
  },
  {
   "cell_type": "markdown",
   "metadata": {},
   "source": [
    "### Normalite de la distribution des Ages"
   ]
  },
  {
   "cell_type": "code",
   "execution_count": 5,
   "metadata": {},
   "outputs": [
    {
     "data": {
      "image/png": "[encoded data removed]",
      "text/plain": [
       "<Figure size 720x432 with 1 Axes>"
      ]
     },
     "metadata": {
      "needs_background": "light"
     },
     "output_type": "display_data"
    }
   ],
   "source": [
    "fig = plt.figure(figsize=(10,6))\n",
    "plt.rcParams.update({'font.size': 14})\n",
    "sns.histplot(df_paniers['age'],kde=True)\n",
    "plt.title(\"Distribution des ages des clients\")\n",
    "plt.show()\n",
    "fig.savefig('./GRAPHIQUES/Correlation_age_taillePanierMoyen/Distribution des ages-panierMoyen.png',dpi=fig.dpi*10)\n",
    "plt.close(fig)"
   ]
  },
  {
   "cell_type": "code",
   "execution_count": 6,
   "metadata": {},
   "outputs": [
    {
     "data": {
      "text/plain": [
       "count    342315.000000\n",
       "mean         45.838660\n",
       "std          14.900547\n",
       "min          18.000000\n",
       "25%          35.000000\n",
       "50%          44.000000\n",
       "75%          55.000000\n",
       "max          93.000000\n",
       "Name: age, dtype: float64"
      ]
     },
     "execution_count": 6,
     "metadata": {},
     "output_type": "execute_result"
    }
   ],
   "source": [
    "data_paniers['age'].describe()"
   ]
  },
  {
   "cell_type": "code",
   "execution_count": 7,
   "metadata": {},
   "outputs": [
    {
     "name": "stdout",
     "output_type": "stream",
     "text": [
      "statistic=0.970, pvalue=0.000\n"
     ]
    },
    {
     "name": "stderr",
     "output_type": "stream",
     "text": [
      "C:\\Users\\yteki\\AppData\\Roaming\\Python\\Python39\\site-packages\\scipy\\stats\\morestats.py:1681: UserWarning: p-value may not be accurate for N > 5000.\n",
      "  warnings.warn(\"p-value may not be accurate for N > 5000.\")\n"
     ]
    }
   ],
   "source": [
    "# shapiro-wilk test\n",
    "# H0 : la distribution des ages suit une distribution normale\n",
    "# H1 : la distribution des ages ne suit pas une distribution normale\n",
    "res_shap=st.shapiro(df_paniers['age'])\n",
    "print('statistic=%.3f, pvalue=%.3f' % (res_shap.statistic, res_shap.pvalue))"
   ]
  },
  {
   "cell_type": "markdown",
   "metadata": {},
   "source": [
    "La p-value (0.000 ) est nettement inferieure à 0.05 , on rejette donc l'hypothèse nulle au seuil de 5% . La distribution des ages ne suit donc pas une distribution normale ."
   ]
  },
  {
   "cell_type": "code",
   "execution_count": 8,
   "metadata": {},
   "outputs": [
    {
     "name": "stdout",
     "output_type": "stream",
     "text": [
      "statistic=1.000, pvalue=0.000\n"
     ]
    }
   ],
   "source": [
    "# kolmogorov-smirnov\n",
    "# H0 : la distribution des ages suit une distribution normale\n",
    "# H1 : la distribution des ages ne suit pas une distribution normale\n",
    "rng = np.random.default_rng()\n",
    "sample2 = st.norm.rvs(size=342, random_state=rng)\n",
    "res = st.ks_2samp(df_paniers['age'], sample2,alternative='two-sided')\n",
    "print('statistic=%.3f, pvalue=%.3f' % (res.statistic, res.pvalue))"
   ]
  },
  {
   "cell_type": "markdown",
   "metadata": {},
   "source": [
    "La p-value (0.000 ) est nettement inferieure à 0.05 , on rejette donc l'hypothèse nulle au seuil de 5% . La distribution des ages ne suit donc pas une distribution normale ."
   ]
  },
  {
   "cell_type": "markdown",
   "metadata": {},
   "source": [
    "### Normalite de la distribution des tailles de paniers"
   ]
  },
  {
   "cell_type": "code",
   "execution_count": 9,
   "metadata": {},
   "outputs": [
    {
     "data": {
      "image/png": "[encoded data removed]",
      "text/plain": [
       "<Figure size 720x432 with 1 Axes>"
      ]
     },
     "metadata": {
      "needs_background": "light"
     },
     "output_type": "display_data"
    }
   ],
   "source": [
    "\n",
    "fig = plt.figure(figsize=(10,6))\n",
    "plt.rcParams.update({'font.size': 14})\n",
    "sns.histplot(df_paniers['taillePanierMoyen'],kde=True)\n",
    "plt.xlim(0, 10)\n",
    "plt.ylim(0, 650)\n",
    "plt.title(\"taille des paniers\")\n",
    "plt.show()\n",
    "fig.savefig('./GRAPHIQUES/Correlation_age_taillePanierMoyen/Distribution des tailles de paniers moyen.png',dpi=fig.dpi*10)\n",
    "plt.close(fig)"
   ]
  },
  {
   "cell_type": "code",
   "execution_count": 10,
   "metadata": {},
   "outputs": [
    {
     "name": "stdout",
     "output_type": "stream",
     "text": [
      "statistic=0.941, pvalue=0.000\n"
     ]
    },
    {
     "name": "stderr",
     "output_type": "stream",
     "text": [
      "C:\\Users\\yteki\\AppData\\Roaming\\Python\\Python39\\site-packages\\scipy\\stats\\morestats.py:1681: UserWarning: p-value may not be accurate for N > 5000.\n",
      "  warnings.warn(\"p-value may not be accurate for N > 5000.\")\n"
     ]
    }
   ],
   "source": [
    "# shapiro-wilk test\n",
    "# H0 : la distribution de la taille des paniers suit une distribution normale\n",
    "# H1 : la distribution de la taille des paniers ne suit pas une distribution normale\n",
    "res_shap=st.shapiro(df_paniers['taillePanierMoyen'])\n",
    "print('statistic=%.3f, pvalue=%.3f' % (res_shap.statistic, res_shap.pvalue))"
   ]
  },
  {
   "cell_type": "markdown",
   "metadata": {},
   "source": [
    "La p-value (0.000 ) est nettement inferieure à 0.05 , on rejette donc l'hypothèse nulle au seuil de 5% . La distribution des tailles de paniers ne suit donc pas une distribution normale ."
   ]
  },
  {
   "cell_type": "code",
   "execution_count": 11,
   "metadata": {},
   "outputs": [
    {
     "name": "stdout",
     "output_type": "stream",
     "text": [
      "statistic=0.836, pvalue=0.000\n"
     ]
    }
   ],
   "source": [
    "# kolmogorov-smirnov\n",
    "# H0 : la distribution des tailles de paniers suit une distribution normale\n",
    "# H1 : la distribution des tailles de paniers ne suit pas une distribution normale\n",
    "rng = np.random.default_rng()\n",
    "sample2 = st.norm.rvs(size=342, random_state=rng)\n",
    "res = st.ks_2samp(df_paniers['taillePanierMoyen'], sample2,alternative='two-sided')\n",
    "print('statistic=%.3f, pvalue=%.3f' % (res.statistic, res.pvalue))"
   ]
  },
  {
   "cell_type": "markdown",
   "metadata": {},
   "source": [
    "La p-value (0.000 ) est nettement inferieure à 0.05 , on rejette donc l'hypothèse nulle au seuil de 5% . La distribution des tailles des paniers ne suit donc pas une distribution normale ."
   ]
  },
  {
   "cell_type": "markdown",
   "metadata": {},
   "source": [
    "### TEST DE SPEARMAN"
   ]
  },
  {
   "cell_type": "code",
   "execution_count": 12,
   "metadata": {},
   "outputs": [
    {
     "name": "stdout",
     "output_type": "stream",
     "text": [
      "statistic=-0.207, pvalue=0.000\n"
     ]
    }
   ],
   "source": [
    "# Spearmanr correlation test\n",
    "# H0 : les variables sont independantes\n",
    "# H1 : les variables sont dependantes\n",
    "res_spearman =st.spearmanr(df_paniers['age'],df_paniers['taillePanierMoyen'])\n",
    "print('statistic=%.3f, pvalue=%.3f' % ( res_spearman.correlation , res_spearman.pvalue))\n",
    "\n"
   ]
  },
  {
   "cell_type": "markdown",
   "metadata": {},
   "source": [
    "La p-value (0.000 ) est nettement inferieure à 0.05 , on rejette donc l'hypothèse nulle au seuil de 5% .\n",
    "On conclue que Âge des clients et la taille du panier moyen sont\n",
    "##### dependantes ."
   ]
  },
  {
   "cell_type": "code",
   "execution_count": 13,
   "metadata": {},
   "outputs": [
    {
     "name": "stderr",
     "output_type": "stream",
     "text": [
      "No handles with labels found to put in legend.\n"
     ]
    }
   ],
   "source": [
    "slope, intercept, r_value, p_value, std_err = st.linregress(df_paniers['age'],\n",
    "                                                            df_paniers['taillePanierMoyen'])\n",
    "fig = plt.figure(figsize=(10,6))\n",
    "plt.rcParams.update({'font.size': 14})\n",
    "\n",
    "sns.scatterplot(data=df_paniers, x='age', y='taillePanierMoyen')\n",
    "\n",
    "plt.ylabel('Taille des paniers moyen')\n",
    "\n",
    "plt.xlabel('Age')\n",
    "\n",
    "plt.grid()\n",
    "\n",
    "plt.xlim(15, 100)\n",
    "plt.ylim(0,10)\n",
    "\n",
    "plt.legend(bbox_to_anchor=(1, 1.02))\n",
    "\n",
    "plt.title(\"Nuage de points age de client/ taille des paniers moyen\")\n",
    "fitLine = slope * df_paniers['age'] + intercept\n",
    "\n",
    "plt.plot(df_paniers['age'], fitLine, c='r')\n",
    "fig.savefig('./GRAPHIQUES/Correlation_age_taillePanierMoyen/Nuage_de_point_age_taillePaniers.png',dpi=fig.dpi*10)\n",
    "plt.close(fig)"
   ]
  },
  {
   "cell_type": "markdown",
   "metadata": {},
   "source": [
    "### MERCI DE VOTRE ATTENTION"
   ]
  }
 ],
 "metadata": {
  "kernelspec": {
   "display_name": "Python 3 (ipykernel)",
   "language": "python",
   "name": "python3"
  },
  "language_info": {
   "codemirror_mode": {
    "name": "ipython",
    "version": 3
   },
   "file_extension": ".py",
   "mimetype": "text/x-python",
   "name": "python",
   "nbconvert_exporter": "python",
   "pygments_lexer": "ipython3",
   "version": "3.9.7"
  }
 },
 "nbformat": 4,
 "nbformat_minor": 4
}
