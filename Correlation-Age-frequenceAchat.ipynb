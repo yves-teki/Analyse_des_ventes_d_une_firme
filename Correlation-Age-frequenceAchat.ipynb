{
 "cells": [
  {
   "cell_type": "markdown",
   "metadata": {},
   "source": [
    "<div style=\"display: flex; text-align:center; background-color: RGB( 254, 249, 231 );border: 1px solid RGB(51,165,182);\" >\n",
    "<h1 style=\"margin: auto; padding: 30px;margin-left: 2em; text-indent: -2em\"><font color=\"#475AFF\">Corrélation entre l'âge des clients et la fréquence d’achat</font>\n",
    "</h1>\n",
    "</div>\n",
    "\n"
   ]
  },
  {
   "cell_type": "code",
   "execution_count": 1,
   "metadata": {},
   "outputs": [],
   "source": [
    "import pandas as pd\n",
    "import numpy as np\n",
    "import matplotlib.pyplot as plt\n",
    "import seaborn as sns\n",
    "import scipy.stats as st\n",
    "import statsmodels.api as sm\n",
    "import statsmodels.formula.api as smf\n",
    "pd.set_option('display.max_rows', None)"
   ]
  },
  {
   "cell_type": "code",
   "execution_count": 2,
   "metadata": {},
   "outputs": [
    {
     "data": {
      "text/html": [
       "<div>\n",
       "<style scoped>\n",
       "    .dataframe tbody tr th:only-of-type {\n",
       "        vertical-align: middle;\n",
       "    }\n",
       "\n",
       "    .dataframe tbody tr th {\n",
       "        vertical-align: top;\n",
       "    }\n",
       "\n",
       "    .dataframe thead th {\n",
       "        text-align: right;\n",
       "    }\n",
       "</style>\n",
       "<table border=\"1\" class=\"dataframe\">\n",
       "  <thead>\n",
       "    <tr style=\"text-align: right;\">\n",
       "      <th></th>\n",
       "      <th>session_id</th>\n",
       "      <th>montant_dupanier</th>\n",
       "      <th>nombre_article</th>\n",
       "      <th>client_id</th>\n",
       "      <th>age</th>\n",
       "      <th>birth</th>\n",
       "      <th>sex</th>\n",
       "      <th>month</th>\n",
       "      <th>day</th>\n",
       "      <th>date</th>\n",
       "    </tr>\n",
       "  </thead>\n",
       "  <tbody>\n",
       "    <tr>\n",
       "      <th>0</th>\n",
       "      <td>s_1</td>\n",
       "      <td>11.99</td>\n",
       "      <td>1</td>\n",
       "      <td>c_329</td>\n",
       "      <td>55.0</td>\n",
       "      <td>1967.0</td>\n",
       "      <td>f</td>\n",
       "      <td>2021-03</td>\n",
       "      <td>2021-03-01</td>\n",
       "      <td>2021-03-01 00:01:07.843138</td>\n",
       "    </tr>\n",
       "    <tr>\n",
       "      <th>1</th>\n",
       "      <td>s_10</td>\n",
       "      <td>26.99</td>\n",
       "      <td>1</td>\n",
       "      <td>c_2218</td>\n",
       "      <td>52.0</td>\n",
       "      <td>1970.0</td>\n",
       "      <td>f</td>\n",
       "      <td>2021-03</td>\n",
       "      <td>2021-03-01</td>\n",
       "      <td>2021-03-01 00:10:33.163037</td>\n",
       "    </tr>\n",
       "    <tr>\n",
       "      <th>2</th>\n",
       "      <td>s_100</td>\n",
       "      <td>33.72</td>\n",
       "      <td>2</td>\n",
       "      <td>c_3854</td>\n",
       "      <td>44.0</td>\n",
       "      <td>1978.0</td>\n",
       "      <td>f</td>\n",
       "      <td>2021-03</td>\n",
       "      <td>2021-03-01</td>\n",
       "      <td>2021-03-01 04:12:43.572994</td>\n",
       "    </tr>\n",
       "    <tr>\n",
       "      <th>3</th>\n",
       "      <td>s_1000</td>\n",
       "      <td>39.22</td>\n",
       "      <td>4</td>\n",
       "      <td>c_1014</td>\n",
       "      <td>33.0</td>\n",
       "      <td>1989.0</td>\n",
       "      <td>m</td>\n",
       "      <td>2021-03</td>\n",
       "      <td>2021-03-03</td>\n",
       "      <td>2021-03-03 02:38:09.568389</td>\n",
       "    </tr>\n",
       "    <tr>\n",
       "      <th>4</th>\n",
       "      <td>s_10000</td>\n",
       "      <td>41.49</td>\n",
       "      <td>3</td>\n",
       "      <td>c_476</td>\n",
       "      <td>33.0</td>\n",
       "      <td>1989.0</td>\n",
       "      <td>f</td>\n",
       "      <td>2021-03</td>\n",
       "      <td>2021-03-22</td>\n",
       "      <td>2021-03-22 17:46:05.819130</td>\n",
       "    </tr>\n",
       "  </tbody>\n",
       "</table>\n",
       "</div>"
      ],
      "text/plain": [
       "  session_id  montant_dupanier  nombre_article client_id   age   birth sex  \\\n",
       "0        s_1             11.99               1     c_329  55.0  1967.0   f   \n",
       "1       s_10             26.99               1    c_2218  52.0  1970.0   f   \n",
       "2      s_100             33.72               2    c_3854  44.0  1978.0   f   \n",
       "3     s_1000             39.22               4    c_1014  33.0  1989.0   m   \n",
       "4    s_10000             41.49               3     c_476  33.0  1989.0   f   \n",
       "\n",
       "     month         day                        date  \n",
       "0  2021-03  2021-03-01  2021-03-01 00:01:07.843138  \n",
       "1  2021-03  2021-03-01  2021-03-01 00:10:33.163037  \n",
       "2  2021-03  2021-03-01  2021-03-01 04:12:43.572994  \n",
       "3  2021-03  2021-03-03  2021-03-03 02:38:09.568389  \n",
       "4  2021-03  2021-03-22  2021-03-22 17:46:05.819130  "
      ]
     },
     "execution_count": 2,
     "metadata": {},
     "output_type": "execute_result"
    }
   ],
   "source": [
    "data_paniers = pd.read_csv(\"./DATA/cleaned/data_paniers.csv\")\n",
    "data_paniers.head()"
   ]
  },
  {
   "cell_type": "code",
   "execution_count": 3,
   "metadata": {},
   "outputs": [
    {
     "data": {
      "text/html": [
       "<div>\n",
       "<style scoped>\n",
       "    .dataframe tbody tr th:only-of-type {\n",
       "        vertical-align: middle;\n",
       "    }\n",
       "\n",
       "    .dataframe tbody tr th {\n",
       "        vertical-align: top;\n",
       "    }\n",
       "\n",
       "    .dataframe thead th {\n",
       "        text-align: right;\n",
       "    }\n",
       "</style>\n",
       "<table border=\"1\" class=\"dataframe\">\n",
       "  <thead>\n",
       "    <tr style=\"text-align: right;\">\n",
       "      <th></th>\n",
       "      <th>month</th>\n",
       "      <th>age</th>\n",
       "      <th>client_id</th>\n",
       "      <th>frequence_d_achat_par_mois</th>\n",
       "    </tr>\n",
       "  </thead>\n",
       "  <tbody>\n",
       "    <tr>\n",
       "      <th>0</th>\n",
       "      <td>2021-03</td>\n",
       "      <td>18.0</td>\n",
       "      <td>c_1590</td>\n",
       "      <td>5</td>\n",
       "    </tr>\n",
       "    <tr>\n",
       "      <th>1</th>\n",
       "      <td>2021-03</td>\n",
       "      <td>18.0</td>\n",
       "      <td>c_2627</td>\n",
       "      <td>4</td>\n",
       "    </tr>\n",
       "    <tr>\n",
       "      <th>2</th>\n",
       "      <td>2021-03</td>\n",
       "      <td>18.0</td>\n",
       "      <td>c_4104</td>\n",
       "      <td>4</td>\n",
       "    </tr>\n",
       "    <tr>\n",
       "      <th>3</th>\n",
       "      <td>2021-03</td>\n",
       "      <td>18.0</td>\n",
       "      <td>c_6275</td>\n",
       "      <td>4</td>\n",
       "    </tr>\n",
       "    <tr>\n",
       "      <th>4</th>\n",
       "      <td>2021-03</td>\n",
       "      <td>18.0</td>\n",
       "      <td>c_6976</td>\n",
       "      <td>4</td>\n",
       "    </tr>\n",
       "  </tbody>\n",
       "</table>\n",
       "</div>"
      ],
      "text/plain": [
       "     month   age client_id  frequence_d_achat_par_mois\n",
       "0  2021-03  18.0    c_1590                           5\n",
       "1  2021-03  18.0    c_2627                           4\n",
       "2  2021-03  18.0    c_4104                           4\n",
       "3  2021-03  18.0    c_6275                           4\n",
       "4  2021-03  18.0    c_6976                           4"
      ]
     },
     "execution_count": 3,
     "metadata": {},
     "output_type": "execute_result"
    }
   ],
   "source": [
    "E = data_paniers.groupby(['month','age'])['client_id'].value_counts()\n",
    "E= pd.DataFrame(E)\n",
    "E.columns = ['frequence_d_achat_par_mois']\n",
    "E = E.reset_index()\n",
    "E_copy = E.copy()\n",
    "E.head()"
   ]
  },
  {
   "cell_type": "markdown",
   "metadata": {},
   "source": [
    "### HYPOTHESE DE NORMALITE"
   ]
  },
  {
   "cell_type": "markdown",
   "metadata": {},
   "source": [
    "### Normalite de la distribution des Ages"
   ]
  },
  {
   "cell_type": "code",
   "execution_count": 4,
   "metadata": {},
   "outputs": [
    {
     "data": {
      "image/png": "[encoded data removed]",
      "text/plain": [
       "<Figure size 720x432 with 1 Axes>"
      ]
     },
     "metadata": {
      "needs_background": "light"
     },
     "output_type": "display_data"
    }
   ],
   "source": [
    "\n",
    "fig = plt.figure(figsize=(10,6))\n",
    "plt.rcParams.update({'font.size': 14})\n",
    "sns.histplot(E['age'],kde=True)\n",
    "plt.title(\"Distribution des ages des clients\")\n",
    "plt.show()\n",
    "fig.savefig('./GRAPHIQUES/correlation_age_frequenceAchat/Distribution des ages-frequenceAchat.png',dpi=fig.dpi*10)\n",
    "plt.close(fig)"
   ]
  },
  {
   "cell_type": "code",
   "execution_count": 5,
   "metadata": {},
   "outputs": [
    {
     "data": {
      "text/plain": [
       "count    137127.000000\n",
       "mean         44.941004\n",
       "std          16.189444\n",
       "min          18.000000\n",
       "25%          33.000000\n",
       "50%          44.000000\n",
       "75%          56.000000\n",
       "max          93.000000\n",
       "Name: age, dtype: float64"
      ]
     },
     "execution_count": 5,
     "metadata": {},
     "output_type": "execute_result"
    }
   ],
   "source": [
    "E['age'].describe()"
   ]
  },
  {
   "cell_type": "code",
   "execution_count": 6,
   "metadata": {},
   "outputs": [
    {
     "name": "stdout",
     "output_type": "stream",
     "text": [
      "statistic=0.980, pvalue=0.000\n"
     ]
    },
    {
     "name": "stderr",
     "output_type": "stream",
     "text": [
      "C:\\Users\\yteki\\AppData\\Roaming\\Python\\Python39\\site-packages\\scipy\\stats\\morestats.py:1681: UserWarning: p-value may not be accurate for N > 5000.\n",
      "  warnings.warn(\"p-value may not be accurate for N > 5000.\")\n"
     ]
    }
   ],
   "source": [
    "# shapiro-wilk test\n",
    "# H0 : la distribution des ages suit une distribution normale\n",
    "# H1 : la distribution des ages ne suit pas une distribution normale\n",
    "res_shap=st.shapiro(E['age'])\n",
    "print('statistic=%.3f, pvalue=%.3f' % (res_shap.statistic, res_shap.pvalue))"
   ]
  },
  {
   "cell_type": "markdown",
   "metadata": {},
   "source": [
    "La p-value (0.000 ) est nettement inferieure à 0.05 , on rejette donc l'hypothèse nulle au seuil de 5% . La distribution des ages ne suit donc pas une distribution normale ."
   ]
  },
  {
   "cell_type": "code",
   "execution_count": 7,
   "metadata": {},
   "outputs": [
    {
     "name": "stdout",
     "output_type": "stream",
     "text": [
      "statistic=1.000, pvalue=0.000\n"
     ]
    }
   ],
   "source": [
    "# kolmogorov-smirnov\n",
    "# H0 : la distribution des ages suit une distribution normale\n",
    "# H1 : la distribution des ages ne suit pas une distribution normale\n",
    "rng = np.random.default_rng()\n",
    "sample2 = st.norm.rvs(size=342, random_state=rng)\n",
    "res = st.ks_2samp(E['age'], sample2,alternative='two-sided')\n",
    "print('statistic=%.3f, pvalue=%.3f' % (res.statistic, res.pvalue))"
   ]
  },
  {
   "cell_type": "markdown",
   "metadata": {},
   "source": [
    "La p-value (0.000 ) est nettement inferieure à 0.05 , on rejette donc l'hypothèse nulle au seuil de 5% . La distribution des ages ne suit donc pas une distribution normale ."
   ]
  },
  {
   "cell_type": "markdown",
   "metadata": {},
   "source": [
    "### Normalite de la distribution des frequences d'achat"
   ]
  },
  {
   "cell_type": "code",
   "execution_count": 8,
   "metadata": {},
   "outputs": [
    {
     "data": {
      "text/plain": [
       "count    137127.000000\n",
       "mean          2.496336\n",
       "std           7.427524\n",
       "min           1.000000\n",
       "25%           1.000000\n",
       "50%           2.000000\n",
       "75%           3.000000\n",
       "max         536.000000\n",
       "Name: frequence_d_achat_par_mois, dtype: float64"
      ]
     },
     "execution_count": 8,
     "metadata": {},
     "output_type": "execute_result"
    }
   ],
   "source": [
    "E['frequence_d_achat_par_mois'].describe()"
   ]
  },
  {
   "cell_type": "code",
   "execution_count": 9,
   "metadata": {},
   "outputs": [
    {
     "data": {
      "image/png": "[encoded data removed]",
      "text/plain": [
       "<Figure size 720x432 with 1 Axes>"
      ]
     },
     "metadata": {
      "needs_background": "light"
     },
     "output_type": "display_data"
    }
   ],
   "source": [
    "fig = plt.figure(figsize=(10,6))\n",
    "plt.rcParams.update({'font.size': 14})\n",
    "sns.histplot(E['frequence_d_achat_par_mois'])\n",
    "plt.xlim(-5, 20)\n",
    "plt.ylim(0, 75000)\n",
    "plt.title(\"Distribution des frequences des achats\")\n",
    "plt.show()\n",
    "fig.savefig('./GRAPHIQUES/correlation_age_frequenceAchat/Distribution des frequence des chat.png',dpi=fig.dpi*10)\n",
    "plt.close(fig)"
   ]
  },
  {
   "cell_type": "code",
   "execution_count": 10,
   "metadata": {},
   "outputs": [
    {
     "name": "stdout",
     "output_type": "stream",
     "text": [
      "statistic=0.077, pvalue=0.000\n"
     ]
    },
    {
     "name": "stderr",
     "output_type": "stream",
     "text": [
      "C:\\Users\\yteki\\AppData\\Roaming\\Python\\Python39\\site-packages\\scipy\\stats\\morestats.py:1681: UserWarning: p-value may not be accurate for N > 5000.\n",
      "  warnings.warn(\"p-value may not be accurate for N > 5000.\")\n"
     ]
    }
   ],
   "source": [
    "# shapiro-wilk test\n",
    "# H0 : la distribution des montants de paniers suit une distribution normale\n",
    "# H1 : la distribution des montants de paniers ne suit pas une distribution normale\n",
    "res_shap=st.shapiro(E['frequence_d_achat_par_mois'])\n",
    "print('statistic=%.3f, pvalue=%.3f' % (res_shap.statistic, res_shap.pvalue))"
   ]
  },
  {
   "cell_type": "markdown",
   "metadata": {},
   "source": [
    "La p-value (0.000 ) est nettement inferieure à 0.05 , on rejette donc l'hypothèse nulle au seuil de 5% . La distribution des frequences d'achat ne suit donc pas une distribution normale ."
   ]
  },
  {
   "cell_type": "code",
   "execution_count": 11,
   "metadata": {},
   "outputs": [
    {
     "name": "stdout",
     "output_type": "stream",
     "text": [
      "statistic=0.871, pvalue=0.000\n"
     ]
    }
   ],
   "source": [
    "# kolmogorov-smirnov\n",
    "# H0 : la distribution des ages suit une distribution normale\n",
    "# H1 : la distribution des ages ne suit pas une distribution normale\n",
    "rng = np.random.default_rng()\n",
    "sample2 = st.norm.rvs(size=342, random_state=rng)\n",
    "res = st.ks_2samp(E['frequence_d_achat_par_mois'], sample2,alternative='two-sided')\n",
    "print('statistic=%.3f, pvalue=%.3f' % (res.statistic, res.pvalue))"
   ]
  },
  {
   "cell_type": "markdown",
   "metadata": {},
   "source": [
    "La p-value (0.000 ) est nettement inferieure à 0.05 , on rejette donc l'hypothèse nulle au seuil de 5% . La distribution des frequences d'achat ne suit donc pas une distribution normale ."
   ]
  },
  {
   "cell_type": "markdown",
   "metadata": {},
   "source": [
    "### TEST DE SPEARMAN"
   ]
  },
  {
   "cell_type": "code",
   "execution_count": 12,
   "metadata": {},
   "outputs": [
    {
     "name": "stdout",
     "output_type": "stream",
     "text": [
      "statistic=0.120,pvalue=0.000\n"
     ]
    }
   ],
   "source": [
    "# Spearmanr correlation test\n",
    "# H0 : les variables sont independantes\n",
    "# H1 : les variables sont dependantes\n",
    "res_spearman =st.spearmanr(E['age'],E['frequence_d_achat_par_mois'])\n",
    "print('statistic=%.3f,pvalue=%.3f' % (res_spearman.correlation, res_spearman.pvalue))\n",
    "\n"
   ]
  },
  {
   "cell_type": "markdown",
   "metadata": {},
   "source": [
    "La p-value (0.000 ) est nettement inferieure à 0.05 , on rejette donc l'hypothèse nulle au seuil de 5% .\n",
    "On conclue donc que l'Âge des clients et la fréquence d’achat sont \n",
    "##### dependantes ."
   ]
  },
  {
   "cell_type": "code",
   "execution_count": 13,
   "metadata": {},
   "outputs": [
    {
     "name": "stderr",
     "output_type": "stream",
     "text": [
      "No handles with labels found to put in legend.\n"
     ]
    }
   ],
   "source": [
    "slope, intercept, r_value, p_value, std_err = st.linregress(E['age'],\n",
    "                                                            E['frequence_d_achat_par_mois'])\n",
    "fig = plt.figure(figsize=(10,6))\n",
    "plt.rcParams.update({'font.size': 14})\n",
    "\n",
    "sns.scatterplot(data=E, x='age', y='frequence_d_achat_par_mois')\n",
    "\n",
    "plt.ylabel('Frequence des achats')\n",
    "\n",
    "plt.xlabel('Age')\n",
    "\n",
    "plt.grid()\n",
    "\n",
    "plt.xlim(15, 100)\n",
    "plt.ylim(0, 20)\n",
    "\n",
    "plt.legend(bbox_to_anchor=(1, 1.02))\n",
    "\n",
    "plt.title(\"Nuage de points age de client/ frequence des achats par mois\")\n",
    "fitLine = slope * E['age'] + intercept\n",
    "\n",
    "plt.plot(E['age'], fitLine, c='r')\n",
    "fig.savefig('./GRAPHIQUES/correlation_age_frequenceAchat/Nuage_de_point_age_freaquenceachat',dpi=fig.dpi*10)\n",
    "plt.close(fig)"
   ]
  },
  {
   "cell_type": "markdown",
   "metadata": {},
   "source": [
    "### MERCI DE VOTRE ATTENTION"
   ]
  }
 ],
 "metadata": {
  "kernelspec": {
   "display_name": "Python 3 (ipykernel)",
   "language": "python",
   "name": "python3"
  },
  "language_info": {
   "codemirror_mode": {
    "name": "ipython",
    "version": 3
   },
   "file_extension": ".py",
   "mimetype": "text/x-python",
   "name": "python",
   "nbconvert_exporter": "python",
   "pygments_lexer": "ipython3",
   "version": "3.9.7"
  }
 },
 "nbformat": 4,
 "nbformat_minor": 4
}
