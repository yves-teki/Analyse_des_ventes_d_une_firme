{
 "cells": [
  {
   "cell_type": "markdown",
   "metadata": {},
   "source": [
    "<div style=\"display: flex; text-align:center; background-color: RGB( 254, 249, 231 );border: 1px solid RGB(51,165,182);\" >\n",
    "<h1 style=\"margin: auto; padding: 30px;margin-left: 2em; text-indent: -2em\"><font color=\"#475AFF\">Correlations entre le genre de client et categorie de produits achetés</font>\n",
    "</h1>\n",
    "</div>\n",
    "\n"
   ]
  },
  {
   "cell_type": "code",
   "execution_count": 1,
   "metadata": {},
   "outputs": [],
   "source": [
    "import pandas as pd\n",
    "import numpy as np\n",
    "import matplotlib.pyplot as plt\n",
    "import seaborn as sns\n",
    "import datetime as dt\n",
    "import scipy.stats as st\n",
    "import statsmodels.api as sm\n",
    "pd.set_option('display.max_rows', None)"
   ]
  },
  {
   "cell_type": "code",
   "execution_count": 2,
   "metadata": {},
   "outputs": [
    {
     "data": {
      "text/html": [
       "<div>\n",
       "<style scoped>\n",
       "    .dataframe tbody tr th:only-of-type {\n",
       "        vertical-align: middle;\n",
       "    }\n",
       "\n",
       "    .dataframe tbody tr th {\n",
       "        vertical-align: top;\n",
       "    }\n",
       "\n",
       "    .dataframe thead th {\n",
       "        text-align: right;\n",
       "    }\n",
       "</style>\n",
       "<table border=\"1\" class=\"dataframe\">\n",
       "  <thead>\n",
       "    <tr style=\"text-align: right;\">\n",
       "      <th></th>\n",
       "      <th>date</th>\n",
       "      <th>client_id</th>\n",
       "      <th>birth</th>\n",
       "      <th>categ</th>\n",
       "      <th>sex</th>\n",
       "      <th>id_prod</th>\n",
       "      <th>price</th>\n",
       "      <th>session_id</th>\n",
       "      <th>age</th>\n",
       "      <th>month</th>\n",
       "      <th>day</th>\n",
       "    </tr>\n",
       "  </thead>\n",
       "  <tbody>\n",
       "    <tr>\n",
       "      <th>0</th>\n",
       "      <td>2021-03-01 00:01:07.843138</td>\n",
       "      <td>c_329</td>\n",
       "      <td>1967.0</td>\n",
       "      <td>0</td>\n",
       "      <td>f</td>\n",
       "      <td>0_1259</td>\n",
       "      <td>11.99</td>\n",
       "      <td>s_1</td>\n",
       "      <td>55.0</td>\n",
       "      <td>2021-03</td>\n",
       "      <td>2021-03-01</td>\n",
       "    </tr>\n",
       "    <tr>\n",
       "      <th>1</th>\n",
       "      <td>2021-03-01 00:02:26.047414</td>\n",
       "      <td>c_664</td>\n",
       "      <td>1960.0</td>\n",
       "      <td>0</td>\n",
       "      <td>m</td>\n",
       "      <td>0_1390</td>\n",
       "      <td>19.37</td>\n",
       "      <td>s_2</td>\n",
       "      <td>62.0</td>\n",
       "      <td>2021-03</td>\n",
       "      <td>2021-03-01</td>\n",
       "    </tr>\n",
       "    <tr>\n",
       "      <th>2</th>\n",
       "      <td>2021-03-01 00:02:38.311413</td>\n",
       "      <td>c_580</td>\n",
       "      <td>1988.0</td>\n",
       "      <td>0</td>\n",
       "      <td>m</td>\n",
       "      <td>0_1352</td>\n",
       "      <td>4.50</td>\n",
       "      <td>s_3</td>\n",
       "      <td>34.0</td>\n",
       "      <td>2021-03</td>\n",
       "      <td>2021-03-01</td>\n",
       "    </tr>\n",
       "    <tr>\n",
       "      <th>3</th>\n",
       "      <td>2021-03-01 00:04:54.559692</td>\n",
       "      <td>c_7912</td>\n",
       "      <td>1989.0</td>\n",
       "      <td>0</td>\n",
       "      <td>f</td>\n",
       "      <td>0_1458</td>\n",
       "      <td>6.55</td>\n",
       "      <td>s_4</td>\n",
       "      <td>33.0</td>\n",
       "      <td>2021-03</td>\n",
       "      <td>2021-03-01</td>\n",
       "    </tr>\n",
       "    <tr>\n",
       "      <th>4</th>\n",
       "      <td>2021-03-01 00:05:18.801198</td>\n",
       "      <td>c_2033</td>\n",
       "      <td>1956.0</td>\n",
       "      <td>0</td>\n",
       "      <td>f</td>\n",
       "      <td>0_1358</td>\n",
       "      <td>16.49</td>\n",
       "      <td>s_5</td>\n",
       "      <td>66.0</td>\n",
       "      <td>2021-03</td>\n",
       "      <td>2021-03-01</td>\n",
       "    </tr>\n",
       "  </tbody>\n",
       "</table>\n",
       "</div>"
      ],
      "text/plain": [
       "                         date client_id   birth  categ sex id_prod  price  \\\n",
       "0  2021-03-01 00:01:07.843138     c_329  1967.0      0   f  0_1259  11.99   \n",
       "1  2021-03-01 00:02:26.047414     c_664  1960.0      0   m  0_1390  19.37   \n",
       "2  2021-03-01 00:02:38.311413     c_580  1988.0      0   m  0_1352   4.50   \n",
       "3  2021-03-01 00:04:54.559692    c_7912  1989.0      0   f  0_1458   6.55   \n",
       "4  2021-03-01 00:05:18.801198    c_2033  1956.0      0   f  0_1358  16.49   \n",
       "\n",
       "  session_id   age    month         day  \n",
       "0        s_1  55.0  2021-03  2021-03-01  \n",
       "1        s_2  62.0  2021-03  2021-03-01  \n",
       "2        s_3  34.0  2021-03  2021-03-01  \n",
       "3        s_4  33.0  2021-03  2021-03-01  \n",
       "4        s_5  66.0  2021-03  2021-03-01  "
      ]
     },
     "execution_count": 2,
     "metadata": {},
     "output_type": "execute_result"
    }
   ],
   "source": [
    "data = pd.read_csv(\"./DATA/cleaned/in_data.csv\")\n",
    "data.head()"
   ]
  },
  {
   "cell_type": "code",
   "execution_count": 3,
   "metadata": {},
   "outputs": [
    {
     "data": {
      "text/html": [
       "<div>\n",
       "<style scoped>\n",
       "    .dataframe tbody tr th:only-of-type {\n",
       "        vertical-align: middle;\n",
       "    }\n",
       "\n",
       "    .dataframe tbody tr th {\n",
       "        vertical-align: top;\n",
       "    }\n",
       "\n",
       "    .dataframe thead th {\n",
       "        text-align: right;\n",
       "    }\n",
       "</style>\n",
       "<table border=\"1\" class=\"dataframe\">\n",
       "  <thead>\n",
       "    <tr style=\"text-align: right;\">\n",
       "      <th>categ</th>\n",
       "      <th>0</th>\n",
       "      <th>1</th>\n",
       "      <th>2</th>\n",
       "      <th>Total</th>\n",
       "    </tr>\n",
       "    <tr>\n",
       "      <th>sex</th>\n",
       "      <th></th>\n",
       "      <th></th>\n",
       "      <th></th>\n",
       "      <th></th>\n",
       "    </tr>\n",
       "  </thead>\n",
       "  <tbody>\n",
       "    <tr>\n",
       "      <th>f</th>\n",
       "      <td>206220.0</td>\n",
       "      <td>114899.0</td>\n",
       "      <td>17283.0</td>\n",
       "      <td>338402.0</td>\n",
       "    </tr>\n",
       "    <tr>\n",
       "      <th>m</th>\n",
       "      <td>209460.0</td>\n",
       "      <td>112270.0</td>\n",
       "      <td>19200.0</td>\n",
       "      <td>340930.0</td>\n",
       "    </tr>\n",
       "    <tr>\n",
       "      <th>total</th>\n",
       "      <td>415680.0</td>\n",
       "      <td>227169.0</td>\n",
       "      <td>36483.0</td>\n",
       "      <td>679332.0</td>\n",
       "    </tr>\n",
       "  </tbody>\n",
       "</table>\n",
       "</div>"
      ],
      "text/plain": [
       "categ         0         1        2     Total\n",
       "sex                                         \n",
       "f      206220.0  114899.0  17283.0  338402.0\n",
       "m      209460.0  112270.0  19200.0  340930.0\n",
       "total  415680.0  227169.0  36483.0  679332.0"
      ]
     },
     "execution_count": 3,
     "metadata": {},
     "output_type": "execute_result"
    }
   ],
   "source": [
    "#tableau de contigence entre sexe de client et categorie de produits achetés\n",
    "X = \"sex\"\n",
    "Y = \"categ\"\n",
    "\n",
    "c = data[[X,Y]].pivot_table(index=X,columns=Y,aggfunc=len)\n",
    "cont = c.copy()\n",
    "\n",
    "tx = data[X].value_counts()\n",
    "ty = data[Y].value_counts()\n",
    "\n",
    "cont.loc[:,\"Total\"] = tx\n",
    "cont.loc[\"total\",:] = ty\n",
    "cont.loc[\"total\",\"Total\"] = len(data)\n",
    "cont"
   ]
  },
  {
   "cell_type": "code",
   "execution_count": 4,
   "metadata": {},
   "outputs": [
    {
     "data": {
      "image/png": "[encoded data removed]",
      "text/plain": [
       "<Figure size 1080x432 with 2 Axes>"
      ]
     },
     "metadata": {
      "needs_background": "light"
     },
     "output_type": "display_data"
    }
   ],
   "source": [
    "fig = plt.figure(figsize=(15,6))\n",
    "tx = pd.DataFrame(tx)\n",
    "ty = pd.DataFrame(ty)\n",
    "tx.columns = [\"foo\"]\n",
    "ty.columns = [\"foo\"]\n",
    "n = len(data)\n",
    "indep = tx.dot(ty.T) / n\n",
    "\n",
    "c = c.fillna(0) # on remplace les valeurs nulles par des 0\n",
    "mesure = (c-indep)**2/indep\n",
    "xi_n = mesure.sum().sum()\n",
    "sns.heatmap(mesure/xi_n,annot=c,cmap=\"YlGnBu\")\n",
    "plt.title('Tableau de contigence colore sex categorie',fontsize=20)\n",
    "plt.xticks(fontsize=14)\n",
    "plt.yticks(fontsize=14)\n",
    "plt.xlabel(\"Categorie\",fontsize=16)\n",
    "plt.ylabel(\"Sex\",fontsize=16)\n",
    "plt.show()\n",
    "fig.savefig('./GRAPHIQUES/Correlation_genre_produitsAchetes/Tableau_de_contigence_colore_sex_categorie.png',dpi=fig.dpi*10)\n",
    "plt.close(fig)"
   ]
  },
  {
   "cell_type": "code",
   "execution_count": 5,
   "metadata": {},
   "outputs": [
    {
     "name": "stdout",
     "output_type": "stream",
     "text": [
      "xi_n: 147.00253568681114\n"
     ]
    }
   ],
   "source": [
    "print('xi_n:',xi_n)"
   ]
  },
  {
   "cell_type": "markdown",
   "metadata": {},
   "source": [
    "### Chi-Squared Test\n",
    "Testons l'independance entre la variable sex et la variable categorie qui sont deux variables qualitatives\n",
    "\n",
    "Soit les hypothèses\n",
    "H0: les deux variables sont independantes.\n",
    "H1: les deux variables sont dependantes."
   ]
  },
  {
   "cell_type": "code",
   "execution_count": 6,
   "metadata": {},
   "outputs": [
    {
     "name": "stdout",
     "output_type": "stream",
     "text": [
      "stat=147.003, p=0.000\n",
      "Nous rejetons HO ; les variables sont probablement dependantes\n"
     ]
    }
   ],
   "source": [
    "#  the Chi-Squared Test\n",
    "from scipy.stats import chi2_contingency\n",
    "table = c\n",
    "stat, p, dof, expected = chi2_contingency(table)\n",
    "print('stat=%.3f, p=%.3f' % (stat, p))\n",
    "if p > 0.05:\n",
    "    print('Nous ne rejetons pas HO ; les variables sont probablement independantes')\n",
    "else:\n",
    "    print('Nous rejetons HO ; les variables sont probablement dependantes')"
   ]
  },
  {
   "cell_type": "markdown",
   "metadata": {},
   "source": [
    "nous pouvons conclure avec un niveau de risque de 5% que Le Genre (sexe) du client et la catégorie des livres acheté sont dependantes ."
   ]
  },
  {
   "cell_type": "markdown",
   "metadata": {},
   "source": [
    "### MERCI DE VOTRE ATTENTION"
   ]
  }
 ],
 "metadata": {
  "kernelspec": {
   "display_name": "Python 3 (ipykernel)",
   "language": "python",
   "name": "python3"
  },
  "language_info": {
   "codemirror_mode": {
    "name": "ipython",
    "version": 3
   },
   "file_extension": ".py",
   "mimetype": "text/x-python",
   "name": "python",
   "nbconvert_exporter": "python",
   "pygments_lexer": "ipython3",
   "version": "3.9.7"
  }
 },
 "nbformat": 4,
 "nbformat_minor": 4
}
