{
 "cells": [
  {
   "cell_type": "markdown",
   "metadata": {},
   "source": [
    "<div style=\"display: flex; text-align:center; background-color: RGB( 254, 249, 231 );border: 1px solid RGB(51,165,182);\" >\n",
    "<h1 style=\"margin: auto; padding: 30px;margin-left: 2em; text-indent: -2em\"><font color=\"#475AFF\">Correlation entre l'âge des clients et les catégories de produits achetés.</font>\n",
    "</h1>\n",
    "</div>\n"
   ]
  },
  {
   "cell_type": "code",
   "execution_count": 1,
   "metadata": {},
   "outputs": [],
   "source": [
    "import pandas as pd\n",
    "import numpy as np\n",
    "import matplotlib.pyplot as plt\n",
    "import seaborn as sns\n",
    "import scipy.stats as st\n",
    "import statsmodels.api as sm\n",
    "import statsmodels.formula.api as smf\n",
    "pd.set_option('display.max_rows', None)\n"
   ]
  },
  {
   "cell_type": "code",
   "execution_count": 2,
   "metadata": {},
   "outputs": [
    {
     "data": {
      "text/html": [
       "<div>\n",
       "<style scoped>\n",
       "    .dataframe tbody tr th:only-of-type {\n",
       "        vertical-align: middle;\n",
       "    }\n",
       "\n",
       "    .dataframe tbody tr th {\n",
       "        vertical-align: top;\n",
       "    }\n",
       "\n",
       "    .dataframe thead th {\n",
       "        text-align: right;\n",
       "    }\n",
       "</style>\n",
       "<table border=\"1\" class=\"dataframe\">\n",
       "  <thead>\n",
       "    <tr style=\"text-align: right;\">\n",
       "      <th></th>\n",
       "      <th>date</th>\n",
       "      <th>client_id</th>\n",
       "      <th>birth</th>\n",
       "      <th>categ</th>\n",
       "      <th>sex</th>\n",
       "      <th>id_prod</th>\n",
       "      <th>price</th>\n",
       "      <th>session_id</th>\n",
       "      <th>age</th>\n",
       "      <th>month</th>\n",
       "      <th>day</th>\n",
       "    </tr>\n",
       "  </thead>\n",
       "  <tbody>\n",
       "    <tr>\n",
       "      <th>0</th>\n",
       "      <td>2021-03-01 00:01:07.843138</td>\n",
       "      <td>c_329</td>\n",
       "      <td>1967.0</td>\n",
       "      <td>0</td>\n",
       "      <td>f</td>\n",
       "      <td>0_1259</td>\n",
       "      <td>11.99</td>\n",
       "      <td>s_1</td>\n",
       "      <td>55.0</td>\n",
       "      <td>2021-03</td>\n",
       "      <td>2021-03-01</td>\n",
       "    </tr>\n",
       "    <tr>\n",
       "      <th>1</th>\n",
       "      <td>2021-03-01 00:02:26.047414</td>\n",
       "      <td>c_664</td>\n",
       "      <td>1960.0</td>\n",
       "      <td>0</td>\n",
       "      <td>m</td>\n",
       "      <td>0_1390</td>\n",
       "      <td>19.37</td>\n",
       "      <td>s_2</td>\n",
       "      <td>62.0</td>\n",
       "      <td>2021-03</td>\n",
       "      <td>2021-03-01</td>\n",
       "    </tr>\n",
       "    <tr>\n",
       "      <th>2</th>\n",
       "      <td>2021-03-01 00:02:38.311413</td>\n",
       "      <td>c_580</td>\n",
       "      <td>1988.0</td>\n",
       "      <td>0</td>\n",
       "      <td>m</td>\n",
       "      <td>0_1352</td>\n",
       "      <td>4.50</td>\n",
       "      <td>s_3</td>\n",
       "      <td>34.0</td>\n",
       "      <td>2021-03</td>\n",
       "      <td>2021-03-01</td>\n",
       "    </tr>\n",
       "    <tr>\n",
       "      <th>3</th>\n",
       "      <td>2021-03-01 00:04:54.559692</td>\n",
       "      <td>c_7912</td>\n",
       "      <td>1989.0</td>\n",
       "      <td>0</td>\n",
       "      <td>f</td>\n",
       "      <td>0_1458</td>\n",
       "      <td>6.55</td>\n",
       "      <td>s_4</td>\n",
       "      <td>33.0</td>\n",
       "      <td>2021-03</td>\n",
       "      <td>2021-03-01</td>\n",
       "    </tr>\n",
       "    <tr>\n",
       "      <th>4</th>\n",
       "      <td>2021-03-01 00:05:18.801198</td>\n",
       "      <td>c_2033</td>\n",
       "      <td>1956.0</td>\n",
       "      <td>0</td>\n",
       "      <td>f</td>\n",
       "      <td>0_1358</td>\n",
       "      <td>16.49</td>\n",
       "      <td>s_5</td>\n",
       "      <td>66.0</td>\n",
       "      <td>2021-03</td>\n",
       "      <td>2021-03-01</td>\n",
       "    </tr>\n",
       "  </tbody>\n",
       "</table>\n",
       "</div>"
      ],
      "text/plain": [
       "                         date client_id   birth  categ sex id_prod  price  \\\n",
       "0  2021-03-01 00:01:07.843138     c_329  1967.0      0   f  0_1259  11.99   \n",
       "1  2021-03-01 00:02:26.047414     c_664  1960.0      0   m  0_1390  19.37   \n",
       "2  2021-03-01 00:02:38.311413     c_580  1988.0      0   m  0_1352   4.50   \n",
       "3  2021-03-01 00:04:54.559692    c_7912  1989.0      0   f  0_1458   6.55   \n",
       "4  2021-03-01 00:05:18.801198    c_2033  1956.0      0   f  0_1358  16.49   \n",
       "\n",
       "  session_id   age    month         day  \n",
       "0        s_1  55.0  2021-03  2021-03-01  \n",
       "1        s_2  62.0  2021-03  2021-03-01  \n",
       "2        s_3  34.0  2021-03  2021-03-01  \n",
       "3        s_4  33.0  2021-03  2021-03-01  \n",
       "4        s_5  66.0  2021-03  2021-03-01  "
      ]
     },
     "execution_count": 2,
     "metadata": {},
     "output_type": "execute_result"
    }
   ],
   "source": [
    "data = pd.read_csv('./DATA/cleaned/in_data.csv')\n",
    "data.head()"
   ]
  },
  {
   "cell_type": "markdown",
   "metadata": {},
   "source": [
    "On veut étudier ici l'influence de l'age sur le choix de la categorie de produits achetés. </br>\n",
    "On peut commencer par visualiser en affichant ces boîtes à moustaches :"
   ]
  },
  {
   "cell_type": "code",
   "execution_count": 3,
   "metadata": {},
   "outputs": [
    {
     "data": {
      "image/png": "[encoded data removed]",
      "text/plain": [
       "<Figure size 1080x432 with 1 Axes>"
      ]
     },
     "metadata": {
      "needs_background": "light"
     },
     "output_type": "display_data"
    }
   ],
   "source": [
    "fig, ax = plt.subplots(figsize=(15, 6))\n",
    "g = sns.boxplot(x=\"categ\", y=\"age\", data=data, color='white',ax=ax)\n",
    "#g.set(xlabel='Categorie',ylabel='Prix(€)')\n",
    "plt.title('Dispersion des ages par categorie de produits achetés',fontsize=\"20\")\n",
    "plt.ylabel('Age',fontsize='17')\n",
    "plt.xlabel('Categorie',fontsize=\"17\")\n",
    "plt.xticks(fontsize=\"15\")\n",
    "plt.yticks(fontsize=\"15\")\n",
    "plt.show()\n",
    "fig.savefig('./GRAPHIQUES/correlation_age_categorie/Dispersion_des_age_par_categorie_de_produits_achetes.png',dpi=fig.dpi*10)\n",
    "plt.close(fig)"
   ]
  },
  {
   "cell_type": "markdown",
   "metadata": {},
   "source": [
    "Au regard des boites à moustache Les 3 categories semblent être assez différentes.</br>\n",
    "La question sera de savoir si ces écarts sont significatifs ou pas.\n",
    "\n",
    "\n"
   ]
  },
  {
   "cell_type": "markdown",
   "metadata": {},
   "source": [
    "### HYPOTHESE DE NORMALITE"
   ]
  },
  {
   "cell_type": "markdown",
   "metadata": {},
   "source": [
    "### Normalite de la distribution des Ages"
   ]
  },
  {
   "cell_type": "code",
   "execution_count": 4,
   "metadata": {},
   "outputs": [
    {
     "data": {
      "image/png": "[encoded data removed]",
      "text/plain": [
       "<Figure size 720x432 with 1 Axes>"
      ]
     },
     "metadata": {
      "needs_background": "light"
     },
     "output_type": "display_data"
    }
   ],
   "source": [
    "fig = plt.figure(figsize=(10,6))\n",
    "plt.rcParams.update({'font.size': 14})\n",
    "sns.histplot(data['age'],kde=True)\n",
    "plt.title(\"Distribution des ages des clients\")\n",
    "plt.show()\n",
    "fig.savefig('./GRAPHIQUES/correlation_age_categorie/Distribution des ages-categorieProduitsAchetes.png',dpi=fig.dpi*10)\n",
    "plt.close(fig)"
   ]
  },
  {
   "cell_type": "code",
   "execution_count": 5,
   "metadata": {},
   "outputs": [
    {
     "name": "stdout",
     "output_type": "stream",
     "text": [
      "statistic=0.974, pvalue=0.000\n"
     ]
    },
    {
     "name": "stderr",
     "output_type": "stream",
     "text": [
      "C:\\Users\\yteki\\AppData\\Roaming\\Python\\Python39\\site-packages\\scipy\\stats\\morestats.py:1681: UserWarning: p-value may not be accurate for N > 5000.\n",
      "  warnings.warn(\"p-value may not be accurate for N > 5000.\")\n"
     ]
    }
   ],
   "source": [
    "# shapiro-wilk test\n",
    "# H0 : la distribution des ages suit une distribution normale\n",
    "# H1 : la distribution des ages ne suit pas une distribution normale\n",
    "res_shap=st.shapiro(data['age'])\n",
    "print('statistic=%.3f, pvalue=%.3f' % (res_shap.statistic, res_shap.pvalue))"
   ]
  },
  {
   "cell_type": "markdown",
   "metadata": {},
   "source": [
    "La p-value (0.000 ) est nettement inferieure à 0.05 , on rejette donc l'hypothèse nulle au seuil de 5% . La distribution des ages ne suit donc pas une distribution normale ."
   ]
  },
  {
   "cell_type": "code",
   "execution_count": 6,
   "metadata": {},
   "outputs": [
    {
     "name": "stdout",
     "output_type": "stream",
     "text": [
      "statistic=1.000, pvalue=0.000\n"
     ]
    }
   ],
   "source": [
    "# kolmogorov-smirnov\n",
    "# H0 : la distribution des ages suit une distribution normale\n",
    "# H1 : la distribution des ages ne suit pas une distribution normale\n",
    "rng = np.random.default_rng()\n",
    "sample2 = st.norm.rvs(size=342, random_state=rng)\n",
    "res = st.ks_2samp(data['age'], sample2,alternative='two-sided')\n",
    "print('statistic=%.3f, pvalue=%.3f' % (res.statistic, res.pvalue))"
   ]
  },
  {
   "cell_type": "markdown",
   "metadata": {},
   "source": [
    "La p-value (0.000 ) est nettement inferieure à 0.05 , on rejette donc l'hypothèse nulle au seuil de 5% . La distribution des ages ne suit donc pas une distribution normale ."
   ]
  },
  {
   "cell_type": "markdown",
   "metadata": {},
   "source": [
    "## Test de Kruskal-Wallis\n",
    "\n"
   ]
  },
  {
   "cell_type": "markdown",
   "metadata": {},
   "source": [
    "H0: Les moyennes des categories $α_{0}=α_{1}=α_{2}=0$ . </br>\n",
    "H1: Une ou plusieurs moyennes sont differentes"
   ]
  },
  {
   "cell_type": "code",
   "execution_count": 7,
   "metadata": {},
   "outputs": [
    {
     "name": "stdout",
     "output_type": "stream",
     "text": [
      "statistic=1054255.335, pvalue=0.000\n"
     ]
    }
   ],
   "source": [
    "res_kruskal = st.kruskal(data['age'],data['categ'])\n",
    "print('statistic=%.3f, pvalue=%.3f' % (res_kruskal.statistic, res_kruskal.pvalue))"
   ]
  },
  {
   "cell_type": "markdown",
   "metadata": {},
   "source": [
    "\n",
    "\n",
    "La p-value (0.000 ) est nettement inferieure à 0.05 , on rejette donc l'hypothèse nulle au seuil de 5% .\n",
    "On conclue que Âge des clients et la categorie de produits achetés sont\n",
    "##### dependantes .\n",
    "\n",
    "\n",
    "Les clients de moins de 30 ans achètent généralement les produits de categorie 2 ;Entre 30 et 40 ans les clients achètent les produits de categorie 1 et 2 . Les clients de plus de 50 ans achètent majoritairement des produits de categorie 2 . "
   ]
  },
  {
   "cell_type": "markdown",
   "metadata": {},
   "source": [
    "### MERCI DE VOTRE ATTENTION"
   ]
  }
 ],
 "metadata": {
  "kernelspec": {
   "display_name": "Python 3 (ipykernel)",
   "language": "python",
   "name": "python3"
  },
  "language_info": {
   "codemirror_mode": {
    "name": "ipython",
    "version": 3
   },
   "file_extension": ".py",
   "mimetype": "text/x-python",
   "name": "python",
   "nbconvert_exporter": "python",
   "pygments_lexer": "ipython3",
   "version": "3.9.7"
  },
  "toc": {
   "base_numbering": 1,
   "nav_menu": {},
   "number_sections": true,
   "sideBar": true,
   "skip_h1_title": false,
   "title_cell": "Table of Contents",
   "title_sidebar": "Contents",
   "toc_cell": false,
   "toc_position": {},
   "toc_section_display": true,
   "toc_window_display": false
  }
 },
 "nbformat": 4,
 "nbformat_minor": 2
}
